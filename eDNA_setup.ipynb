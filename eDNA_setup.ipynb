{
 "cells": [
  {
   "cell_type": "markdown",
   "id": "c3b629e9-8bc6-4414-9ac9-8920acaaad5e",
   "metadata": {},
   "source": [
    "# eDNA setup notebook"
   ]
  },
  {
   "cell_type": "markdown",
   "id": "768341e5-76df-4783-8191-92797e691c89",
   "metadata": {},
   "source": [
    "Combine fastq files into a single file"
   ]
  },
  {
   "cell_type": "code",
   "execution_count": null,
   "id": "f6db4e02-7412-4060-8ab1-865c2a71db17",
   "metadata": {},
   "outputs": [],
   "source": [
    "cd /mnt/ceph/mar_2023_edna/invasive_edna_goldenpond/no_sample/20211210_1009_MC-114522_FAV45916_0a450ec3/fastq_pass/combined_reads"
   ]
  },
  {
   "cell_type": "code",
   "execution_count": null,
   "id": "b3fdef0a-27d9-481c-a614-a3916e047c1f",
   "metadata": {},
   "outputs": [],
   "source": [
    "ls"
   ]
  },
  {
   "cell_type": "code",
   "execution_count": null,
   "id": "5f9b663f-71c5-498b-8f60-03727296eaf0",
   "metadata": {},
   "outputs": [],
   "source": [
    "cat *.fastq.gz > combined_edna.fastq.gz"
   ]
  },
  {
   "cell_type": "code",
   "execution_count": null,
   "id": "63065d02-832d-471b-b572-3b62677ea57d",
   "metadata": {},
   "outputs": [],
   "source": [
    "ls -alh combined_edna.fastq.gz"
   ]
  },
  {
   "cell_type": "markdown",
   "id": "1eade993-1471-4610-a05f-e185063300f6",
   "metadata": {},
   "source": [
    "## Install conda software"
   ]
  },
  {
   "cell_type": "code",
   "execution_count": null,
   "id": "dbaf535b-edcd-4645-99b5-c45c857a90b7",
   "metadata": {},
   "outputs": [],
   "source": [
    "#fastp \n",
    "conda create -y --name fastp fastp==0.20.0 -c bioconda"
   ]
  },
  {
   "cell_type": "code",
   "execution_count": null,
   "id": "aae156bd-a970-4c4b-a14a-422545eaabaf",
   "metadata": {},
   "outputs": [],
   "source": [
    "#BLAST \n",
    "conda create -y --name blast blast==2.13.0 -c bioconda -c conda-forge"
   ]
  },
  {
   "cell_type": "markdown",
   "id": "7938aef2-445b-4eb8-a2b8-77b6f3d1e7e3",
   "metadata": {},
   "source": [
    "## Install amplicon sorter \n",
    "\n",
    "[https://github.com/avierstr/amplicon_sorter/blob/master/Amplicon_sorter_manual.pdf](https://github.com/avierstr/amplicon_sorter/blob/master/Amplicon_sorter_manual.pdf)"
   ]
  },
  {
   "cell_type": "code",
   "execution_count": null,
   "id": "fe1ecf27-71b4-4154-9fc8-272c9991b76c",
   "metadata": {},
   "outputs": [],
   "source": [
    "#amplicon sorter python3 enviornment  \n",
    "conda create -y --name amplicon_sorter python=3"
   ]
  },
  {
   "cell_type": "code",
   "execution_count": null,
   "id": "5a539421-2df1-4801-902e-72cf58dd07b6",
   "metadata": {},
   "outputs": [],
   "source": [
    "conda init"
   ]
  },
  {
   "cell_type": "markdown",
   "id": "a23cdac9-bf3d-4935-8a83-cbc21c58f01d",
   "metadata": {},
   "source": [
    "RESTART THE KERNAL"
   ]
  },
  {
   "cell_type": "code",
   "execution_count": null,
   "id": "f677d514-6c8f-4358-8f1d-c3743ae4a2ef",
   "metadata": {},
   "outputs": [],
   "source": [
    "conda activate amplicon_sorter"
   ]
  },
  {
   "cell_type": "code",
   "execution_count": null,
   "id": "ed7424c2-43c3-469c-84a1-a849f9a90a64",
   "metadata": {},
   "outputs": [],
   "source": [
    "git clone https://github.com/avierstr/amplicon_sorter.git"
   ]
  },
  {
   "cell_type": "code",
   "execution_count": null,
   "id": "f8fd75ba-43e0-4363-afa8-c8982fd66d01",
   "metadata": {},
   "outputs": [],
   "source": [
    "cd amplicon_sorter"
   ]
  },
  {
   "cell_type": "code",
   "execution_count": null,
   "id": "888c4d2e-b21c-4c5a-8c4c-8aea6e23a628",
   "metadata": {},
   "outputs": [],
   "source": [
    "python3 -m pip install edlib"
   ]
  },
  {
   "cell_type": "code",
   "execution_count": null,
   "id": "61282c62-7f09-43e9-8ad0-c902ec1610d5",
   "metadata": {},
   "outputs": [],
   "source": [
    "sudo apt-get -y install python3-biopython"
   ]
  },
  {
   "cell_type": "code",
   "execution_count": null,
   "id": "c8a046d0-8fce-4d95-8e9d-f88672d68832",
   "metadata": {},
   "outputs": [],
   "source": [
    "pip3 install matplotlib"
   ]
  },
  {
   "cell_type": "code",
   "execution_count": null,
   "id": "bb4bf9db-71c2-434a-b7a0-b88f0ee422f7",
   "metadata": {},
   "outputs": [],
   "source": [
    "pip3 install biopython"
   ]
  },
  {
   "cell_type": "code",
   "execution_count": null,
   "id": "5f395544-28a4-43a7-8675-ebe2a9ab44ad",
   "metadata": {},
   "outputs": [],
   "source": [
    "ls"
   ]
  },
  {
   "cell_type": "code",
   "execution_count": null,
   "id": "23f2e763-05d2-4eeb-a579-781ae54d43e9",
   "metadata": {},
   "outputs": [],
   "source": [
    "python3 amplicon_sorter.py "
   ]
  },
  {
   "cell_type": "code",
   "execution_count": null,
   "id": "0e7074db-9e6d-48cb-8db7-8a9945168e8c",
   "metadata": {},
   "outputs": [],
   "source": [
    "#porechop\n",
    "conda create -y --name porechop_abi porechop_abi==0.5.0 -c bioconda -c conda-forge"
   ]
  },
  {
   "cell_type": "code",
   "execution_count": null,
   "id": "b72ea1bc-9cd7-4fbe-8c1a-cd3c83922133",
   "metadata": {},
   "outputs": [],
   "source": [
    "conda deactivate"
   ]
  },
  {
   "cell_type": "code",
   "execution_count": null,
   "id": "e299cae5-947b-49d9-b700-7158ed298941",
   "metadata": {},
   "outputs": [],
   "source": [
    "#blast\n",
    "conda create -y --name blast blast==2.13.0-0 -c bioconda -c conda-forge"
   ]
  },
  {
   "cell_type": "code",
   "execution_count": null,
   "id": "dff58939-4666-46d1-a202-dfd4008fb4d8",
   "metadata": {},
   "outputs": [],
   "source": [
    "#edirect\n",
    "conda create -y --name edirect entrez-direct -c bioconda -c conda-forge"
   ]
  }
 ],
 "metadata": {
  "kernelspec": {
   "display_name": "Bash",
   "language": "bash",
   "name": "bash"
  },
  "language_info": {
   "codemirror_mode": "shell",
   "file_extension": ".sh",
   "mimetype": "text/x-sh",
   "name": "bash"
  }
 },
 "nbformat": 4,
 "nbformat_minor": 5
}
