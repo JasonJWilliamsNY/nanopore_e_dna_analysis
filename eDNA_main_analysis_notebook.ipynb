{
 "cells": [
  {
   "cell_type": "markdown",
   "id": "35a5de71-7850-4a4d-a852-a43a38b44e05",
   "metadata": {
    "tags": []
   },
   "source": [
    "# Analysis of Nanopore eDNA"
   ]
  },
  {
   "cell_type": "markdown",
   "id": "0af2c431-eb89-4e34-8a34-c409004501e1",
   "metadata": {},
   "source": [
    "### Optional background and setup\n",
    "\n",
    "This notebook assumes the following software has been installed; you don't need to worry about this section, it's a record for the next time we have do this!\n",
    "\n",
    "- [Fastp](https://github.com/OpenGene/fastp)\n",
    "    - Use: Allows us to filter DNA reads based on the quality of the data, size, or other factors. \n",
    "    - Installation with [conda](https://docs.conda.io/en/latest/miniconda.html): `conda create -y --name fastp fastp==0.20.0 -c bioconda`\n",
    "- [Porechop ABI](https://github.com/bonsai-team/Porechop_ABI)\n",
    "    - Use: Allows us to remove adapters or barcode sequences\n",
    "    - Installation with conda: `conda create -y --name porechop_abi porechop_abi==0.5.0 -c bioconda -c conda-forge)`\n",
    "- [Amplicon sorter](https://github.com/avierstr/amplicon_sorter)\n",
    "    - Use: Allows us to group different DNA amplicon sequences (i.e., sequences amplified by PCR) into groups \n",
    "    - Installation with conda: \n",
    "        - `https://github.com/avierstr/amplicon_sorter`\n",
    "        - `conda activate amplicon_sorter`\n",
    "        - `git clone https://github.com/avierstr/amplicon_sorter.git`\n",
    "        - `cd amplicon_sorter`\n",
    "        - `python3 -m pip install edlib`\n",
    "        - `pip3 install biopython`\n",
    "        - `pip3 install matplotlib`\n",
    "- [BLAST](http://blast.ncbi.nlm.nih.gov/Blast.cgi?PAGE_TYPE=BlastDocs)\n",
    "    - Use: Allows us to search for species matches \n",
    "    - Installation using conda: `conda create -y --name blast blast==2.13.0-0 -c bioconda -c conda-forge`\n",
    "        \n",
    "To use BLAST we also need to make a database of sequences to search\n",
    "\n",
    "*Download sequences from NCBI* \n",
    "\n",
    "- [Entrez-search](entrez-direct)\n",
    "    - Use: Allows us to use command line to download sequences\n",
    "    - Installation using conda: `conda create -y --name edirect entrez-direct -c bioconda -c conda-forge`\n",
    "\n",
    "*Search for plants with rbcL or matk sequence and download into a file*\n",
    "\n",
    "- using taxonomy search https://www.ncbi.nlm.nih.gov/nuccore \n",
    "- `esearch -db nucleotide -query \"((((txid33090[Organism:exp])) AND rbcl[Gene Name])) OR maturase K \"| efetch -format fasta > plant_query_sequences.fasta`\n",
    "- Check the number of records retrieved: `grep \">\"  plant_query_sequences.fasta|wc  -l` # result 500132\n",
    "- Make a blast database: `makeblastdb -in plant_query_sequences.fasta -dbtype nucl -out plant_db`\n",
    "- Get the taxonomy database (must be in the formed plant_db folder)\n",
    "- `update_blastdb.pl taxdb` # must be in blast conda environment\n",
    "\n",
    "**Sample Processing** \n",
    "\n",
    "- Nanopore reads are generally in individual files in groups of 4,000 reads each. All reads for a barcode were combined using cat\n",
    "   -  `cat *.fastq.gz > combined_edna.fastq.gz`"
   ]
  },
  {
   "cell_type": "markdown",
   "id": "643b81c8-b0eb-48c5-9b2a-905b9b8740a5",
   "metadata": {},
   "source": [
    "## Analysis \n",
    "\n",
    "In this lab we will analyze the Nanopore sequence data using the following steps. \n",
    "\n",
    "\n",
    "1. We will check the quality of the data and filter out low-quality data using [Fastp](https://github.com/OpenGene/fastp)\n",
    "\n",
    "2. We will remove \"adapter\" and barcode DNA (extra DNA attached to our reads) using [Porechop ABI](https://github.com/bonsai-team/Porechop_ABI)\n",
    "\n",
    "3. We will sort similar sequences (likely from the same species) using [Amplicon sorter](https://github.com/avierstr/amplicon_sorter)\n",
    "\n",
    "4. We will use [BLAST](http://blast.ncbi.nlm.nih.gov/Blast.cgi?PAGE_TYPE=BlastDocs) to search for matches in our DNA to known samples "
   ]
  },
  {
   "cell_type": "markdown",
   "id": "1f357b29-2f6a-4321-9314-1ebf5abcd1cc",
   "metadata": {},
   "source": [
    "## Locating the Data\n",
    "\n",
    "We have placed DNA from this experiment  in the following locations (you can see them when you use the navigation pane on the left)\n",
    "\n",
    "- **Sample 1**\n",
    "    `e_dna_data/combined_samples/sample_1.fastq.gz`\n",
    "\n",
    "- **Sample 2**\n",
    "    `e_dna_data/combined_samples/sample_2.fastq.gz`\n",
    "\n",
    "- **Sample 3**\n",
    "    `e_dna_data/combined_samples/sample_3.fastq.gz`\n",
    "    \n",
    "We also have some test data to learn and play with \n",
    "- **Test sample**\n",
    "    `e_dna_data/combined_samples/test_sample.fastq.gz`\n",
    " "
   ]
  },
  {
   "cell_type": "markdown",
   "id": "7adab936-0ad3-494f-ad75-3849991abfd3",
   "metadata": {},
   "source": [
    "## Creating a folder for analysis results\n",
    "\n",
    "We can create a folder using this command below; we will organize and save our results there"
   ]
  },
  {
   "cell_type": "code",
   "execution_count": null,
   "id": "fa2e3326-dc0b-4b88-bd32-5f2d940b18b8",
   "metadata": {},
   "outputs": [],
   "source": [
    "mkdir ~/my_edna_analysis"
   ]
  },
  {
   "cell_type": "markdown",
   "id": "39122fed-8b07-48b7-a667-0a60235021fc",
   "metadata": {},
   "source": [
    "## Checking data quality"
   ]
  },
  {
   "cell_type": "markdown",
   "id": "2569095a-ce95-44d7-811c-b6aeca307a16",
   "metadata": {},
   "source": [
    "\n",
    "\n",
    "fastp is \"A tool designed to provide fast all-in-one preprocessing for FastQ files. This tool is developed in C++ with multithreading supported to afford high performance.\"\n",
    "\n",
    "In other words, we can take the FASTQ files (our sequencing data) and do various things to improve the quality of that data such as\n",
    "\n",
    "- Remove reads that have an overall low quality (e.g., low Phred score)\n",
    "- Trim portions of a read (e.g., where the first few/last few bases are of low quality)\n",
    "- Remove reads that are shorter than some desired length (e.g., drop short reads and keep long reads)\n",
    "- Remove adapters (e.g., in sequencing, some artificial DNA \"tags\" may be added to the DNA to be sequenced)\n",
    "- And more...\n",
    "\n"
   ]
  },
  {
   "cell_type": "markdown",
   "id": "6cc20995-6b71-422c-bf73-9253d9408ec5",
   "metadata": {},
   "source": [
    "We activate the software using this command"
   ]
  },
  {
   "cell_type": "code",
   "execution_count": null,
   "id": "34e34ba9-a5a6-4c05-92b7-dc6b9a35d3f7",
   "metadata": {},
   "outputs": [],
   "source": [
    "conda activate fastp"
   ]
  },
  {
   "cell_type": "markdown",
   "id": "9b1dfacf-4f1e-485c-9b6b-0cdf2b6c0a76",
   "metadata": {},
   "source": [
    "In the `~/my_edna_analysis` folder we can make a `fastp_analysis` folder to save our results"
   ]
  },
  {
   "cell_type": "code",
   "execution_count": null,
   "id": "08944a50-f513-424a-bda2-7352ccb4ea2a",
   "metadata": {},
   "outputs": [],
   "source": [
    "mkdir ~/my_edna_analysis/fastp_analysis"
   ]
  },
  {
   "cell_type": "markdown",
   "id": "d4cef8f7-1c6e-4618-91c2-132910fcbf52",
   "metadata": {},
   "source": [
    "We will analyze the test dataset and create a folder for the output results"
   ]
  },
  {
   "cell_type": "code",
   "execution_count": null,
   "id": "d951cc78-b13a-47bd-b931-0bf7b5d5cc22",
   "metadata": {},
   "outputs": [],
   "source": [
    "mkdir ~/my_edna_analysis/fastp_analysis/test_sample"
   ]
  },
  {
   "cell_type": "markdown",
   "id": "566f5799-a845-4091-bb6f-1486ce9677a3",
   "metadata": {},
   "source": [
    "We can use the following command to examine the data quality. We will run this on the test data. You can then alter the command for your sample"
   ]
  },
  {
   "cell_type": "markdown",
   "id": "806bd691-7653-4507-9718-d58bf1991087",
   "metadata": {},
   "source": [
    "We will use [Fastp](https://github.com/OpenGene/fastp) to get a report on our data and filter out reads that are too big or too small to be our PCR products (we expected ~600bp for rbcL and ~900bp for matk + the adapter sequences which may add some length)\n",
    "\n",
    "Every setting of the software (called an [argument](https://www.javatpoint.com/linux-arguments)) starts with \"--\" so:\n",
    "\n",
    "- `--in1`: Location (and name) of the input file to analyze (expressed as a path, for example `folder1/folder2/file.txt`)\n",
    "- `--out1`: Location (and name) of the file that should be output \n",
    "- `--length_required #`: Minimum length of DNA sequences to keep (in basepairs) followed some integer\n",
    "- `--length_limit #`: Maximum length of DNA sequences to keep (in basepairs) followed some integer\n",
    "- `--qualified_quality_phred ##`: Minimum quality average ([phred score](https://en.wikipedia.org/wiki/Phred_quality_score))\n",
    "- `--thread XX`: How many CPUs to use \n",
    "- `--report_title \"your title goes here\"`: A title to give the report (name as you like)\n",
    "-  `--html path/to/output.html`: Location (and name) of an HTML (website) report that will be produced\n",
    "-  `--json path/to/output.json`: Location (and name) of a json (we won't use this) report that will be produced\n",
    "\n",
    "In the command below, a comment (starts with a \"#\" ) reminds you of values you can change"
   ]
  },
  {
   "cell_type": "code",
   "execution_count": null,
   "id": "a5ffabab-a8bd-412c-a68a-86791c76827e",
   "metadata": {},
   "outputs": [],
   "source": [
    "fastp --in1 e_dna_data/combined_samples/test_sample.fastq.gz\\\n",
    "      --out1 my_edna_analysis/fastp_analysis/test_sample/filtered_test_sample.fastq.gz\\\n",
    "      --length_required 600\\\n",
    "      --length_limit 1100\\\n",
    "      --qualified_quality_phred 15\\\n",
    "      --thread 16\\\n",
    "      --report_title \"Combined Q15+ reads > 600bp < 1100bp\"\\\n",
    "      --html my_edna_analysis/fastp_analysis/test_sample/filtered_test_sample.html\\\n",
    "      --json my_edna_analysis/fastp_analysis/test_sample/filtered_test_sample.json"
   ]
  },
  {
   "cell_type": "markdown",
   "id": "067422c1-549e-48e4-aff8-8a0bbc9cf6c3",
   "metadata": {},
   "source": [
    "Running the above will generate a file called `filtered_test_sample.fastq.gz` which you can navigate to in your left navigation pane at `my_edna_analysis > fastp_analysis > test_sample`"
   ]
  },
  {
   "cell_type": "markdown",
   "id": "dd7d5f19-aee9-44f4-a453-41c5ae26126d",
   "metadata": {},
   "source": [
    "### Running fastp on sample 1"
   ]
  },
  {
   "cell_type": "markdown",
   "id": "68c289fa-91a1-4c48-b699-823a79ee2eb4",
   "metadata": {},
   "source": [
    "To do this analysis on sample 1 you would\n",
    "\n",
    "Create a folder in `mkdir ~/my_edna_analysis/fastp_analysis` for sample 1"
   ]
  },
  {
   "cell_type": "code",
   "execution_count": null,
   "id": "bb1c9248-406b-4806-83eb-46d9ec900443",
   "metadata": {},
   "outputs": [],
   "source": [
    "mkdir ~/my_edna_analysis/fastp_analysis/sample_1"
   ]
  },
  {
   "cell_type": "markdown",
   "id": "83b30606-728b-453f-a507-5752ab6ab20d",
   "metadata": {},
   "source": [
    "Modify the `fastp` command to use paths and filenames appropriate for that sample "
   ]
  },
  {
   "cell_type": "code",
   "execution_count": null,
   "id": "53265ada-eef2-410c-a0fd-8f2fdb302048",
   "metadata": {},
   "outputs": [],
   "source": [
    "fastp --in1 e_dna_data/combined_samples/sample_1.fastq.gz\\\n",
    "      --out1 my_edna_analysis/fastp_analysis/sample_1/filtered_sample_1.fastq.gz\\\n",
    "      --length_required 600\\\n",
    "      --length_limit 1100\\\n",
    "      --qualified_quality_phred 15\\\n",
    "      --thread 16\\\n",
    "      --report_title \"Combined Q15+ reads > 600bp < 1100bp\"\\\n",
    "      --html my_edna_analysis/fastp_analysis/sample_1/filtered_sample_1.html\\\n",
    "      --json my_edna_analysis/fastp_analysis/sample_1/filtered_sample_1.json"
   ]
  },
  {
   "cell_type": "markdown",
   "id": "daf79295-777d-4af2-8217-cadeb51183f3",
   "metadata": {},
   "source": [
    "### Things to pay attention to\n",
    "\n",
    "The value you choose for phred quality score (`--qualified_quality_phred `) and length (`--length_required 600`,`--length_limit 1100`)can have a dramatic effect on how many reads pass the filter. Keep track to the report from `fastp` that notes how many reads passed the filter. After you complete BLAST searches using your initial settings, you could come back to see what happens if early on you become more or less stringent. "
   ]
  },
  {
   "cell_type": "markdown",
   "id": "01704281-3cfe-4ea9-b866-ebf702847375",
   "metadata": {
    "tags": []
   },
   "source": [
    "### Running fastp on sample 2 and 3\n",
    "\n",
    "Using what you have done above, repeat the analysis for sample 2 and 3"
   ]
  },
  {
   "cell_type": "markdown",
   "id": "726bc93e-7e29-4b2e-b648-6d8a22147003",
   "metadata": {},
   "source": [
    "Create a folder in `~/my_edna_analysis/fastp_analysis` for sample 2"
   ]
  },
  {
   "cell_type": "code",
   "execution_count": null,
   "id": "00d0d447-22cf-4aba-8a23-68ca71b5c44d",
   "metadata": {},
   "outputs": [],
   "source": [
    "mkdir"
   ]
  },
  {
   "cell_type": "markdown",
   "id": "6707415f-cce9-4cb9-aa8d-247ada40d1e0",
   "metadata": {},
   "source": [
    "Create a folder in `~/my_edna_analysis/fastp_analysis` for sample 3"
   ]
  },
  {
   "cell_type": "code",
   "execution_count": null,
   "id": "4b0b4004-12a4-48db-91ba-7cd24a4ef180",
   "metadata": {},
   "outputs": [],
   "source": [
    "mkdir"
   ]
  },
  {
   "cell_type": "markdown",
   "id": "dc5a168a-452f-4f80-b10c-391c246e8415",
   "metadata": {},
   "source": [
    "Modify the `fastp` command to use paths and filenames appropriate for sample 2"
   ]
  },
  {
   "cell_type": "code",
   "execution_count": null,
   "id": "13672d0f-e3e9-4ba3-8004-3857639d1bd9",
   "metadata": {},
   "outputs": [],
   "source": [
    "fastp --in1 e_dna_data/combined_samples/XXXXXX.fastq.gz\\\n",
    "      --out1 my_edna_analysis/fastp_analysis/sample_XXXXXX/filtered_XXXXXX.fastq.gz\\\n",
    "      --length_required 600\\\n",
    "      --length_limit 1100\\\n",
    "      --qualified_quality_phred 15\\\n",
    "      --thread 16\\\n",
    "      --report_title \"Combined Q15+ reads > 600bp < 1100bp\"\\\n",
    "      --html my_edna_analysis/fastp_analysis/sample_1/filtered_XXXXXX.html\\\n",
    "      --json my_edna_analysis/fastp_analysis/sample_1/filtered_XXXXXX.json"
   ]
  },
  {
   "cell_type": "markdown",
   "id": "1c041a19-a521-47a9-af45-88406f6e5604",
   "metadata": {},
   "source": [
    "Modify the `fastp` command to use paths and filenames appropriate for sample 3"
   ]
  },
  {
   "cell_type": "code",
   "execution_count": null,
   "id": "ba7605ae-bce0-4704-a899-c7576eb53755",
   "metadata": {},
   "outputs": [],
   "source": [
    "fastp --in1 e_dna_data/combined_samples/XXXXXX.fastq.gz\\\n",
    "      --out1 my_edna_analysis/fastp_analysis/sample_XXXXXX/filtered_XXXXXX.fastq.gz\\\n",
    "      --length_required 600\\\n",
    "      --length_limit 1100\\\n",
    "      --qualified_quality_phred 15\\\n",
    "      --thread 16\\\n",
    "      --report_title \"Combined Q15+ reads > 600bp < 1100bp\"\\\n",
    "      --html my_edna_analysis/fastp_analysis/sample_1/filtered_XXXXXX.html\\\n",
    "      --json my_edna_analysis/fastp_analysis/sample_1/filtered_XXXXXX.json"
   ]
  },
  {
   "cell_type": "markdown",
   "id": "7d943801-2974-4599-b155-565ed18018e8",
   "metadata": {},
   "source": [
    "## Removing adapter sequences \n",
    "\n",
    "We need to remove any barcodes or adapter DNA sequences that were ligated to our PCR products. We will do this using [Porechop ABI](https://github.com/bonsai-team/Porechop_ABI). This time we will use the **filtered** DNA sequences we generated with `fastp`."
   ]
  },
  {
   "cell_type": "markdown",
   "id": "bac74c73-dae8-44ef-ad89-94b73ce4d2c2",
   "metadata": {},
   "source": [
    "Create a folder `~/my_edna_analysis` for data that is processed with `porechopabi` and a folder inside the `porechopabi` named for each sample. We can do this in one command"
   ]
  },
  {
   "cell_type": "code",
   "execution_count": null,
   "id": "f711d5eb-dafe-4524-8b5a-f81980906b92",
   "metadata": {},
   "outputs": [],
   "source": [
    "mkdir -p my_edna_analysis/porechop_abi_analysis/test_sample"
   ]
  },
  {
   "cell_type": "markdown",
   "id": "8e20fbc6-419b-4da0-9018-540219d51250",
   "metadata": {},
   "source": [
    "Next activate the `porechopabi` software (we only need to activate software once)"
   ]
  },
  {
   "cell_type": "code",
   "execution_count": null,
   "id": "a29b8869-aaec-4d85-bd8c-e22a02b895ac",
   "metadata": {},
   "outputs": [],
   "source": [
    "conda activate porechop_abi"
   ]
  },
  {
   "cell_type": "markdown",
   "id": "1eac7299-d6dd-4c84-b2d4-a6d5392bf9f0",
   "metadata": {},
   "source": [
    "Finally we use the command `porechop_abi`\n",
    "\n",
    "- `--ab_initio`: Asks the software to determine the adapter sequences for itself\n",
    "- `-i`: Location (and name) of the input file to analyze (expressed as a path, for example folder1/folder2/file.txt)\n",
    "- `-o`: Location (and name) of the output file to write (expressed as a path, for example folder1/folder2/file.txt)\n",
    "\n",
    "Notice that for the test data, we specify to use the filtered data generated by `fastp` and we give a file name for our output the reflects that data has been \"chopped\" of adapters. "
   ]
  },
  {
   "cell_type": "code",
   "execution_count": null,
   "id": "a2de2de6-c967-4e9e-b258-f34bce28f04c",
   "metadata": {},
   "outputs": [],
   "source": [
    "porechop_abi --ab_initio \\\n",
    " -i my_edna_analysis/fastp_analysis/test_sample/filtered_test_sample.fastq.gz\\\n",
    " -o my_edna_analysis/porechop_abi_analysis/test_sample/chop_filtered_test_sample.fastq.gz"
   ]
  },
  {
   "cell_type": "markdown",
   "id": "dc7b2898-f9b1-48c1-bbe4-1455062bf777",
   "metadata": {},
   "source": [
    "We can find our cleaned dataset in the navigation pane at my_edna_analysis > porechop_abi_analysis > test_sample > chop_filtered_test_sample.fastq.gz"
   ]
  },
  {
   "cell_type": "markdown",
   "id": "001df93e-2362-4176-9b50-3707eec89523",
   "metadata": {},
   "source": [
    "For our next step we need to decompress the file created so we will do that now using the output file. This is a long command but it's basically:\n",
    "\n",
    "`gzip -d compressed_file.gz uncompressed_file`\n",
    "\n",
    "After `gzip -d` (the command to decompress) you have the path and name of the compressed file followed by the name and path of where the uncompressed output should be placed. "
   ]
  },
  {
   "cell_type": "code",
   "execution_count": null,
   "id": "61403d8b-d154-4984-b47e-92b46785bba6",
   "metadata": {},
   "outputs": [],
   "source": [
    "gzip -d my_edna_analysis/porechop_abi_analysis/test_sample/chop_filtered_test_sample.fastq.gz my_edna_analysis/porechop_abi_analysis/test_sample/chop_filtered_test_sample.fastq"
   ]
  },
  {
   "cell_type": "markdown",
   "id": "fa5547a6-bdd7-4935-a08e-3f5048bbc2d5",
   "metadata": {},
   "source": [
    "### Running porechop_abi on sample 1, 2, and 3"
   ]
  },
  {
   "cell_type": "markdown",
   "id": "c95195ce-8107-423d-ab51-24b848a1b83a",
   "metadata": {},
   "source": [
    "Create output folders for sample 1, 2, and 3\n",
    "\n",
    "**Hint**: Complete this command `mkdir -p my_edna_analysis/porechop_abi_analysis/YOUR-FOLDER-NAME-HERE` (replace your folder name)"
   ]
  },
  {
   "cell_type": "code",
   "execution_count": null,
   "id": "75864dda-8dff-48d2-af27-ec5b12716648",
   "metadata": {},
   "outputs": [],
   "source": [
    "mkdir -p"
   ]
  },
  {
   "cell_type": "code",
   "execution_count": null,
   "id": "916e856f-22ce-4503-8be2-aa834294906b",
   "metadata": {},
   "outputs": [],
   "source": [
    "mkdir -p "
   ]
  },
  {
   "cell_type": "code",
   "execution_count": null,
   "id": "353839a9-dea1-4948-bedf-04f8424887be",
   "metadata": {},
   "outputs": [],
   "source": [
    "mkdir -p "
   ]
  },
  {
   "cell_type": "markdown",
   "id": "a71cdc07-862d-4534-ab84-a399abc119ea",
   "metadata": {},
   "source": [
    "Run porechop_abi on each sample (modifying the paths and names of your inputs and outputs)"
   ]
  },
  {
   "cell_type": "code",
   "execution_count": null,
   "id": "8d51078b-2771-42fb-997e-38edc05c2d42",
   "metadata": {},
   "outputs": [],
   "source": [
    "porechop_abi --ab_initio \\\n",
    " -i my_edna_analysis/fastp_analysis/XXXXX/filtered_XXXXX.fastq.gz\\\n",
    " -o my_edna_analysis/porechop_abi_analysis/XXXXX/chop_filtered_XXXXX.fastq.gz"
   ]
  },
  {
   "cell_type": "code",
   "execution_count": null,
   "id": "77ebc9fc-f89a-4215-b567-5e27aa04b2a4",
   "metadata": {},
   "outputs": [],
   "source": [
    "porechop_abi --ab_initio \\\n",
    " -i my_edna_analysis/fastp_analysis/XXXXX/filtered_XXXXX.fastq.gz\\\n",
    " -o my_edna_analysis/porechop_abi_analysis/XXXXX/chop_filtered_XXXXX.fastq.gz"
   ]
  },
  {
   "cell_type": "code",
   "execution_count": null,
   "id": "1aac7127-dae9-443b-94b8-245471fa9634",
   "metadata": {},
   "outputs": [],
   "source": [
    "porechop_abi --ab_initio \\\n",
    " -i my_edna_analysis/fastp_analysis/XXXXX/filtered_XXXXX.fastq.gz\\\n",
    " -o my_edna_analysis/porechop_abi_analysis/XXXXX/chop_filtered_XXXXX.fastq.gz"
   ]
  },
  {
   "cell_type": "markdown",
   "id": "d0f9abb7-5d24-4b4a-9edc-3195b40cacef",
   "metadata": {},
   "source": [
    "Decompress the porechop outputs for the next step "
   ]
  },
  {
   "cell_type": "code",
   "execution_count": null,
   "id": "e1942ec8-9868-45c2-a584-68bfc2b2a979",
   "metadata": {},
   "outputs": [],
   "source": [
    "gzip -d my_edna_analysis/porechop_abi_analysis/XXXXX/chop_filtered_XXXXX.fastq.gz my_edna_analysis/porechop_abi_analysis/XXXXX/chop_filtered_XXXXX.fastq"
   ]
  },
  {
   "cell_type": "code",
   "execution_count": null,
   "id": "abb9d422-e352-4bd3-9e1e-0b072038b361",
   "metadata": {},
   "outputs": [],
   "source": [
    "gzip -d my_edna_analysis/porechop_abi_analysis/XXXXX/chop_filtered_XXXXX.fastq.gz my_edna_analysis/porechop_abi_analysis/XXXXX/chop_filtered_XXXXX.fastq"
   ]
  },
  {
   "cell_type": "code",
   "execution_count": null,
   "id": "d8c30aed-089b-4713-942c-4f21611d4a4c",
   "metadata": {},
   "outputs": [],
   "source": [
    "gzip -d my_edna_analysis/porechop_abi_analysis/XXXXX/chop_filtered_XXXXX.fastq.gz my_edna_analysis/porechop_abi_analysis/XXXXX/chop_filtered_XXXXX.fastq"
   ]
  },
  {
   "cell_type": "markdown",
   "id": "cfd38cbc-84a6-44f3-baaa-e5956f324988",
   "metadata": {},
   "source": [
    "## Running ampliconsorter\n",
    "\n",
    "Next, we will take our DNA and sort similar reads into \"bins\" which may represent different species represented in the sample"
   ]
  },
  {
   "cell_type": "code",
   "execution_count": null,
   "id": "b88bfb87-0195-4a7f-b1d7-7d54fbd8854b",
   "metadata": {},
   "outputs": [],
   "source": [
    "mkdir -p my_edna_analysis/amplicon_sorter_analysis/test_sample"
   ]
  },
  {
   "cell_type": "markdown",
   "id": "42263ac2-5c56-4ced-9ad2-58515482a221",
   "metadata": {},
   "source": [
    "Next activate the `amplicon_sorter` software (we only need to activate software once)"
   ]
  },
  {
   "cell_type": "code",
   "execution_count": null,
   "id": "f604f541-ea4a-418c-b2c3-146f42db4475",
   "metadata": {},
   "outputs": [],
   "source": [
    "conda activate amplicon_sorter"
   ]
  },
  {
   "cell_type": "markdown",
   "id": "745902c8-1fa2-4228-bd6c-7026847b0eef",
   "metadata": {},
   "source": [
    "Now we will run the software\n",
    "\n",
    "- `-i`: Location (and name) of the input file to analyze (expressed as a path, for example folder1/folder2/file.txt)\n",
    "- `-o`: Location (and name) of the output file to write (expressed as a path, for example folder1/folder2/file.txt)\n",
    "- `--nprocesses #`: Number of CPUs to use (and an integer)\n",
    "- `--all`: Samples all sequences (We are warned to look at the number of sequences in our dataset since this can run into trouble with more than 10,000 reads (See your output from porechop )"
   ]
  },
  {
   "cell_type": "code",
   "execution_count": null,
   "id": "5be22f55-50f9-4be8-952f-4247740519bc",
   "metadata": {},
   "outputs": [],
   "source": [
    "python3 amplicon_sorter/amplicon_sorter.py\\\n",
    " -i my_edna_analysis/porechop_abi_analysis/test_sample/chop_filtered_test_sample.fastq\\\n",
    " -o my_edna_analysis/amplicon_sorter_analysis/test_sample\\\n",
    " --nprocesses 8\\\n",
    " --similar_species 90"
   ]
  },
  {
   "cell_type": "markdown",
   "id": "efb4e3f7-0989-4fbb-b0b3-f04aac220b6c",
   "metadata": {},
   "source": [
    "The results of this analysis will be a varity of [fasta](https://en.wikipedia.org/wiki/FASTA_format) files of DNA sequence at my_edna_analysis > amplicon_sorter_analysis > test_sample > choped_filtered_test_sample. \n",
    "\n",
    "We will take the unique sequences generates and combine them into a single file we can then use as an input for a BLAST search. \n",
    "\n",
    "We use the `cat` command to concatenate all the unique sequences into a file `test_sample_queries.fasta` stored at `my_edna_analysis/amplicon_sorter_analysis/test_sample/test_sample_queries.fasta`. This fille will have each grouping of potential species/barcode loci the amplicon sorter found. \n"
   ]
  },
  {
   "cell_type": "code",
   "execution_count": null,
   "id": "85e353b0-b2ba-4ff6-abbe-c44eab43c85c",
   "metadata": {},
   "outputs": [],
   "source": [
    "cat my_edna_analysis/amplicon_sorter_analysis/test_sample/chop_filtered_test_sample/*unique.fasta > my_edna_analysis/amplicon_sorter_analysis/test_sample/test_sample_queries.fasta"
   ]
  },
  {
   "cell_type": "markdown",
   "id": "15c5b025-cc55-4165-8a6b-6bf8677fa419",
   "metadata": {},
   "source": [
    "## Running ampliconsorter on sample 1, 2, and 3\n",
    "\n",
    "Create output folders for sample 1, 2, and 3"
   ]
  },
  {
   "cell_type": "code",
   "execution_count": null,
   "id": "00b4baf6-8a48-4e8c-a97e-4b45767b1378",
   "metadata": {},
   "outputs": [],
   "source": [
    "mkdir -p my_edna_analysis/amplicon_sorter_analysis/XXXXX"
   ]
  },
  {
   "cell_type": "code",
   "execution_count": null,
   "id": "f421693c-5194-4d7b-b7c5-539debd529fa",
   "metadata": {},
   "outputs": [],
   "source": [
    "mkdir -p my_edna_analysis/amplicon_sorter_analysis/XXXXX"
   ]
  },
  {
   "cell_type": "code",
   "execution_count": null,
   "id": "12279d3b-a5dc-4193-a24a-339d6a98aea0",
   "metadata": {},
   "outputs": [],
   "source": [
    "mkdir -p my_edna_analysis/amplicon_sorter_analysis/XXXXX"
   ]
  },
  {
   "cell_type": "markdown",
   "id": "68f09138-9c8b-4b65-b803-1e92b0e10721",
   "metadata": {},
   "source": [
    "Run amplicon_sorter"
   ]
  },
  {
   "cell_type": "code",
   "execution_count": null,
   "id": "d4fb7387-76af-4922-b0ab-2abb69455b45",
   "metadata": {},
   "outputs": [],
   "source": [
    "python3 amplicon_sorter/amplicon_sorter.py\\\n",
    " -i my_edna_analysis/porechop_abi_analysis/XXXXX/chop_filtered_XXXXX.fastq\\\n",
    " -o my_edna_analysis/amplicon_sorter_analysis/XXXXX\\\n",
    " --nprocesses 8\\\n",
    " --similar_species 90"
   ]
  },
  {
   "cell_type": "code",
   "execution_count": null,
   "id": "63a09e23-86fb-4ca1-83b2-fcffaa792ec1",
   "metadata": {},
   "outputs": [],
   "source": [
    "python3 amplicon_sorter/amplicon_sorter.py\\\n",
    " -i my_edna_analysis/porechop_abi_analysis/XXXXX/chop_filtered_XXXXX.fastq\\\n",
    " -o my_edna_analysis/amplicon_sorter_analysis/XXXXX\\\n",
    " --nprocesses 8\\\n",
    " --similar_species 90"
   ]
  },
  {
   "cell_type": "code",
   "execution_count": null,
   "id": "0634dad0-e920-4672-b7f2-8652e3881a8a",
   "metadata": {},
   "outputs": [],
   "source": [
    "python3 amplicon_sorter/amplicon_sorter.py\\\n",
    " -i my_edna_analysis/porechop_abi_analysis/XXXXX/chop_filtered_XXXXX.fastq\\\n",
    " -o my_edna_analysis/amplicon_sorter_analysis/XXXXX\\\n",
    " --nprocesses 8\\\n",
    " --similar_species 90"
   ]
  },
  {
   "cell_type": "markdown",
   "id": "ab40bcff-f3fd-4627-87a6-34bcd58b2a30",
   "metadata": {},
   "source": [
    "Concatenate unique outputs"
   ]
  },
  {
   "cell_type": "code",
   "execution_count": null,
   "id": "cb377794-7e63-4e5a-af31-89d7386a5a0f",
   "metadata": {},
   "outputs": [],
   "source": [
    "cat my_edna_analysis/amplicon_sorter_analysis/XXXXX/chop_filtered_XXXXX/*unique.fasta > my_edna_analysis/amplicon_sorter_analysis/XXXXX/XXXXX_queries.fasta"
   ]
  },
  {
   "cell_type": "code",
   "execution_count": null,
   "id": "75f9c0ae-1aff-4df1-9be4-91cb97dd257d",
   "metadata": {},
   "outputs": [],
   "source": [
    "cat my_edna_analysis/amplicon_sorter_analysis/XXXXX/chop_filtered_XXXXX/*unique.fasta > my_edna_analysis/amplicon_sorter_analysis/XXXXX/XXXXX_queries.fasta"
   ]
  },
  {
   "cell_type": "code",
   "execution_count": null,
   "id": "554ab75e-fe88-4dd4-83eb-99f5e9b8c9a3",
   "metadata": {},
   "outputs": [],
   "source": [
    "cat my_edna_analysis/amplicon_sorter_analysis/XXXXX/chop_filtered_XXXXX/*unique.fasta > my_edna_analysis/amplicon_sorter_analysis/XXXXX/XXXXX_queries.fasta"
   ]
  },
  {
   "cell_type": "markdown",
   "id": "a5274155-a588-455f-a945-13b8b5e71d8c",
   "metadata": {},
   "source": [
    "## BLAST search \n",
    "\n",
    "Finally, we can BLAST the sorted sequences to obtain BLAST results and possible identifications of our species. "
   ]
  },
  {
   "cell_type": "markdown",
   "id": "1ec887d4-f04d-441d-8915-5b1695ff0d4a",
   "metadata": {},
   "source": [
    "Make a folder for BLAST results for the sample"
   ]
  },
  {
   "cell_type": "code",
   "execution_count": null,
   "id": "d6f17aa9-4b5d-41d8-a491-fb2fbd18970b",
   "metadata": {},
   "outputs": [],
   "source": [
    "mkdir -p my_edna_analysis/BLAST/test_sample"
   ]
  },
  {
   "cell_type": "markdown",
   "id": "07ffd5a2-7a2d-41b1-b6a9-cf682a02d16a",
   "metadata": {},
   "source": [
    "Activate BLAST software"
   ]
  },
  {
   "cell_type": "code",
   "execution_count": null,
   "id": "15595685-eaff-4ee1-ab09-2358d6d13e89",
   "metadata": {},
   "outputs": [],
   "source": [
    "conda activate blast"
   ]
  },
  {
   "cell_type": "markdown",
   "id": "69f6f799-b583-479f-b11f-9436749d0efc",
   "metadata": {},
   "source": [
    "Now we use `blastn` to search \n",
    "\n",
    "- `-query`: What we want to do searches on; a fasta file with the set of sequences output from the amplicon sorter\n",
    "- `-db`: The database of known sequences to search (in this case a custom database of the rbcl and matk sequences on NCBI genbank\n",
    "- `-out`: Location (and name) of the output file to write (expressed as a path, for example folder1/folder2/file.txt)\n",
    "- `-evalue`: The [expectation value](https://ravilabio.info/notes/bioinformatics/e-value-bitscore.html) a measure of statistical significance for the results to return, the smaller the number, the less likely the match is due to chance. \n",
    "- `-max_target_seqs #`: The maximum number of matches to return\n",
    "- `-num_threads #`: Number of CPUs to use for the search \n",
    "- `outfmt \"10  qseqid stitle qcovs evalue pident\"`: This complex statement (see [BLAST manual](https://www.ncbi.nlm.nih.gov/books/NBK279684/table/appendices.T.options_common_to_all_blast/)) formats our results; in this case, each blast hit returned will list the title of the match (including a GenBank accession id, match name, percentage of alignment, e-value, and percentage identity of the match. "
   ]
  },
  {
   "cell_type": "code",
   "execution_count": null,
   "id": "e036d8ae-9e76-48ab-9531-50914082fbee",
   "metadata": {},
   "outputs": [],
   "source": [
    "blastn -query my_edna_analysis/amplicon_sorter_analysis/test_sample/test_sample_queries.fasta \\\n",
    " -db /mnt/ceph/mar_2023_edna/e_dna_data/blast/plant_db \\\n",
    " -out my_edna_analysis/BLAST/test_sample/results.txt \\\n",
    " -evalue 0.01 \\\n",
    " -max_target_seqs 1 \\\n",
    " -num_threads 8 \\\n",
    " -outfmt \"10 qseqid stitle qcovs evalue pident mismatch\""
   ]
  },
  {
   "cell_type": "markdown",
   "id": "9913b31f-b8db-4022-a745-329553018201",
   "metadata": {},
   "source": [
    "Next, we can parse the BLAST results. Let's look at the first 2 results"
   ]
  },
  {
   "cell_type": "code",
   "execution_count": null,
   "id": "ef49fe9f-809d-4de8-a331-2a4aaca3ceaf",
   "metadata": {},
   "outputs": [],
   "source": [
    "head -n2 my_edna_analysis/BLAST/test_sample/results.txt"
   ]
  },
  {
   "cell_type": "markdown",
   "id": "007042e3-ba5e-4e57-b5ce-c6cb7c89196c",
   "metadata": {},
   "source": [
    "Results are returned in a [comma delimited](https://en.wikipedia.org/wiki/Comma-separated_values) format, this means we could navigate to file `my_edna_analysis/BLAST/test_sample/results.txt` and download (left-click in the navigation pane) and open and examine this file using a program like Excel (tip, change the file extension from `.txt` to `.csv` first)\n",
    "\n",
    "In the test sample we see (separated by commas):\n",
    "\n",
    "- `consensus_chop_filtered_test_sample_0_0(374)`: The name of a single read record from our dataset\n",
    "- `FJ493497.1 Monomastix sp. OKE-1 chloroplast`: The GenBank accession of a match followed by the name of the organism\n",
    "- `complete genome`: The title of the match entry, in this case this comes from a complete genome of the matched organism, sometimes it may be just a single locus like the rbcL gene\n",
    "\n",
    "We next have a series of numbers \n",
    "\n",
    "- `99`: The first number is the query coverage, if you lined up the sequences, how much our sequence would overlap (higher is better)\n",
    "- `0.0`: The second number is expectation value, what is the chance this match is random; lower is better HOWEVER, this not a measure that indicates that we have a definitive match. Nearly everything we find will be a match because of common ancestry (e.g., all plants are related). \n",
    "- `90.373`: The third number is percent identity, what percentage of nucleotides do our query and match have in common (higher is better)\n",
    "- `62`: The forth number is number of mismatches; how many nucleotides differ (lower is better)"
   ]
  },
  {
   "cell_type": "markdown",
   "id": "42eef6bd-2965-48bb-9793-546caca6bbc0",
   "metadata": {},
   "source": [
    "We can use some Linux shell command to help us sort the data and return only the unique results. We won't explain this next command in detail but you can copy and paste it into [explain shell](https://explainshell.com/). This next command will take the results and return the unique results."
   ]
  },
  {
   "cell_type": "code",
   "execution_count": null,
   "id": "d6d6c989-0034-449f-a813-7f84c8589d13",
   "metadata": {},
   "outputs": [],
   "source": [
    "cat my_edna_analysis/BLAST/test_sample/results.txt |cut -d \",\" -f 2|sort|uniq"
   ]
  },
  {
   "cell_type": "markdown",
   "id": "8de1b03e-13b5-4e3a-88dd-3f927dfb3e9e",
   "metadata": {},
   "source": [
    "This next command will take the results and return the unique results but limit to the Genus (and species name if available)"
   ]
  },
  {
   "cell_type": "code",
   "execution_count": null,
   "id": "a1f503b2-bfe1-4a48-9349-7c8673046fdd",
   "metadata": {},
   "outputs": [],
   "source": [
    "cat my_edna_analysis/BLAST/test_sample/results.txt |cut -d \",\" -f 2|sort|uniq|cut -d \" \" -f 2,3|sort|uniq"
   ]
  },
  {
   "cell_type": "markdown",
   "id": "a75fc6a8-1efd-4879-bc63-3464f1bfb8e7",
   "metadata": {},
   "source": [
    "### BLAST search for samples 1, 2, and 3\n",
    "\n",
    "Make a folder for BLAST results for each sample (remember to complete the incomplete code!)\n"
   ]
  },
  {
   "cell_type": "code",
   "execution_count": null,
   "id": "0e9982b2-cabc-4cf0-a966-554b6ff9d916",
   "metadata": {},
   "outputs": [],
   "source": [
    "mkdir -p my_edna_analysis/BLAST/"
   ]
  },
  {
   "cell_type": "code",
   "execution_count": null,
   "id": "2e2f0530-2b5f-4778-90e6-27eb0dcbbd56",
   "metadata": {},
   "outputs": [],
   "source": [
    "mkdir -p my_edna_analysis/BLAST/"
   ]
  },
  {
   "cell_type": "code",
   "execution_count": null,
   "id": "0da8e3ce-aa20-48d3-a46b-8631fa23098c",
   "metadata": {},
   "outputs": [],
   "source": [
    "mkdir -p my_edna_analysis/BLAST/"
   ]
  },
  {
   "cell_type": "markdown",
   "id": "5bf92ec3-ee9a-4a2e-95a2-62f85b4673f7",
   "metadata": {},
   "source": [
    "Do a blast search for each of your samples (remember to adjust these to your sample names)"
   ]
  },
  {
   "cell_type": "code",
   "execution_count": null,
   "id": "796e6fef-4fdc-4211-9808-467105695958",
   "metadata": {},
   "outputs": [],
   "source": [
    "blastn -query my_edna_analysis/amplicon_sorter_analysis/XXXXX/XXXXX_queries.fasta \\\n",
    " -db /mnt/ceph/mar_2023_edna/e_dna_data/blast/plant_db \\\n",
    " -out my_edna_analysis/BLAST/XXXXX/results.txt \\\n",
    " -evalue 0.01 \\\n",
    " -max_target_seqs 1 \\\n",
    " -num_threads 8 \\\n",
    " -outfmt \"10 qseqid stitle qcovs evalue pident mismatch\""
   ]
  },
  {
   "cell_type": "code",
   "execution_count": null,
   "id": "c2f4c559-12f8-48b8-9542-368219d8321b",
   "metadata": {},
   "outputs": [],
   "source": [
    "blastn -query my_edna_analysis/amplicon_sorter_analysis/XXXXX/XXXXX_queries.fasta \\\n",
    " -db /mnt/ceph/mar_2023_edna/e_dna_data/blast/plant_db \\\n",
    " -out my_edna_analysis/BLAST/XXXXX/results.txt \\\n",
    " -evalue 0.01 \\\n",
    " -max_target_seqs 1 \\\n",
    " -num_threads 8 \\\n",
    " -outfmt \"10 qseqid stitle qcovs evalue pident mismatch\""
   ]
  },
  {
   "cell_type": "code",
   "execution_count": null,
   "id": "a447dadc-c1b5-4044-b964-2f8991745828",
   "metadata": {},
   "outputs": [],
   "source": [
    "blastn -query my_edna_analysis/amplicon_sorter_analysis/XXXXX/XXXXX_queries.fasta \\\n",
    " -db /mnt/ceph/mar_2023_edna/e_dna_data/blast/plant_db \\\n",
    " -out my_edna_analysis/BLAST/XXXXX/results.txt \\\n",
    " -evalue 0.01 \\\n",
    " -max_target_seqs 1 \\\n",
    " -num_threads 8 \\\n",
    " -outfmt \"10 qseqid stitle qcovs evalue pident mismatch\""
   ]
  },
  {
   "cell_type": "code",
   "execution_count": null,
   "id": "eb39dc4d-53dd-47f8-86b8-1e9c198f20db",
   "metadata": {},
   "outputs": [],
   "source": [
    "For each of your samples return the list of unique hits"
   ]
  },
  {
   "cell_type": "code",
   "execution_count": null,
   "id": "1605eae5-9c93-4a08-8268-9c5fa9a861a2",
   "metadata": {},
   "outputs": [],
   "source": [
    "cat my_edna_analysis/BLAST/XXXXX/results.txt |cut -d \",\" -f 2|sort|uniq"
   ]
  },
  {
   "cell_type": "code",
   "execution_count": null,
   "id": "5df668f1-522f-4407-b4a5-ea66c89a1e2b",
   "metadata": {},
   "outputs": [],
   "source": [
    "cat my_edna_analysis/BLAST/XXXXX/results.txt |cut -d \",\" -f 2|sort|uniq"
   ]
  },
  {
   "cell_type": "code",
   "execution_count": null,
   "id": "dcf6e026-0153-4f70-920f-2180e6ec3719",
   "metadata": {},
   "outputs": [],
   "source": [
    "cat my_edna_analysis/BLAST/XXXXX/results.txt |cut -d \",\" -f 2|sort|uniq"
   ]
  },
  {
   "cell_type": "markdown",
   "id": "a9075c81-fe57-49fb-8508-b39f58fe950c",
   "metadata": {},
   "source": [
    "For each of your samples return the list of unique hits, further parsed for the genus (possible also species) names"
   ]
  },
  {
   "cell_type": "code",
   "execution_count": null,
   "id": "e73e3959-8997-4c42-8b0d-027f1fd56c4a",
   "metadata": {},
   "outputs": [],
   "source": [
    "cat my_edna_analysis/BLAST/XXXXX/results.txt |cut -d \",\" -f 2|sort|uniq|cut -d \" \" -f 2,3|sort|uniq"
   ]
  },
  {
   "cell_type": "code",
   "execution_count": null,
   "id": "96fc6204-2f9f-4951-b9d4-02e1338ccd5a",
   "metadata": {},
   "outputs": [],
   "source": [
    "cat my_edna_analysis/BLAST/XXXXX/results.txt |cut -d \",\" -f 2|sort|uniq|cut -d \" \" -f 2,3|sort|uniq"
   ]
  },
  {
   "cell_type": "code",
   "execution_count": null,
   "id": "b9a63680-3373-4bbc-8b30-ed24ade67784",
   "metadata": {},
   "outputs": [],
   "source": [
    "cat my_edna_analysis/BLAST/XXXXX/results.txt |cut -d \",\" -f 2|sort|uniq|cut -d \" \" -f 2,3|sort|uniq"
   ]
  },
  {
   "cell_type": "markdown",
   "id": "0c77f0c1-0c15-44c1-92c8-cef0180fd19a",
   "metadata": {},
   "source": [
    "**Congratulations** on your results!\n",
    "\n",
    "You could use the next command to turn your species name into a simple text file that could be developed into a phylogenetic tree"
   ]
  },
  {
   "cell_type": "code",
   "execution_count": null,
   "id": "f14c5bf9-0a1d-4c27-929c-8324b1dae7c8",
   "metadata": {},
   "outputs": [],
   "source": [
    "cat my_edna_analysis/BLAST/test_sample/results.txt |cut -d \",\" -f 2|sort|uniq|cut -d \" \" -f 2,3|sort|uniq > species.txt"
   ]
  },
  {
   "cell_type": "markdown",
   "id": "0fde56c7-fa93-44a9-bc5b-fc8d979deb92",
   "metadata": {},
   "source": [
    "The `species.txt` file can be uploaded to NCBI's [Taxonomy browser](https://www.ncbi.nlm.nih.gov/Taxonomy/CommonTree/wwwcmt.cgi) for further analysis. "
   ]
  }
 ],
 "metadata": {
  "kernelspec": {
   "display_name": "Bash",
   "language": "bash",
   "name": "bash"
  },
  "language_info": {
   "codemirror_mode": "shell",
   "file_extension": ".sh",
   "mimetype": "text/x-sh",
   "name": "bash"
  }
 },
 "nbformat": 4,
 "nbformat_minor": 5
}
